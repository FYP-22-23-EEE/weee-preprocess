{
 "cells": [
  {
   "attachments": {},
   "cell_type": "markdown",
   "metadata": {},
   "source": [
    "# Setup"
   ]
  },
  {
   "cell_type": "code",
   "execution_count": 36,
   "metadata": {},
   "outputs": [
    {
     "name": "stdout",
     "output_type": "stream",
     "text": [
      "/home/tlm/Work/FYP-22-23/weee-preprocess\n"
     ]
    }
   ],
   "source": [
    "%cd  /home/tlm/Work/FYP-22-23/weee-preprocess"
   ]
  },
  {
   "cell_type": "code",
   "execution_count": 37,
   "metadata": {},
   "outputs": [],
   "source": [
    "import os\n",
    "import datetime\n",
    "import numpy as np\n",
    "import pandas as pd"
   ]
  },
  {
   "cell_type": "code",
   "execution_count": 38,
   "metadata": {},
   "outputs": [],
   "source": [
    "DATASET_DIR = \"./data/v1\""
   ]
  },
  {
   "attachments": {},
   "cell_type": "markdown",
   "metadata": {},
   "source": [
    "# Prepare Data"
   ]
  },
  {
   "cell_type": "code",
   "execution_count": 39,
   "metadata": {},
   "outputs": [],
   "source": [
    "from utils.dataset import StudyInfoEncoder, DatasetVersion1\n",
    "from utils.naming import standardize_column_names"
   ]
  },
  {
   "cell_type": "code",
   "execution_count": 40,
   "metadata": {},
   "outputs": [],
   "source": [
    "dataset = DatasetVersion1()\n",
    "left, right = dataset.earbud_acc(participant_id=1)"
   ]
  },
  {
   "cell_type": "code",
   "execution_count": 46,
   "metadata": {},
   "outputs": [
    {
     "data": {
      "text/plain": [
       "Timestamp('2021-12-03 17:29:13.382000128+0000', tz='UTC')"
      ]
     },
     "execution_count": 46,
     "metadata": {},
     "output_type": "execute_result"
    }
   ],
   "source": [
    "df = left\n",
    "df['timestamp'].iloc[-1]"
   ]
  },
  {
   "cell_type": "code",
   "execution_count": 54,
   "metadata": {},
   "outputs": [],
   "source": [
    "df = pd.concat([\n",
    "    left, \n",
    "    pd.DataFrame({\n",
    "        'timestamp': pd.date_range(df['timestamp'].iloc[0], df['timestamp'].iloc[-1], freq='100ms'),\n",
    "        'ax': np.nan, 'ay': np.nan, 'az': np.nan\n",
    "    })\n",
    "], axis=0).set_index('timestamp').sort_index()"
   ]
  },
  {
   "cell_type": "code",
   "execution_count": 56,
   "metadata": {},
   "outputs": [
    {
     "data": {
      "text/html": [
       "<div>\n",
       "<style scoped>\n",
       "    .dataframe tbody tr th:only-of-type {\n",
       "        vertical-align: middle;\n",
       "    }\n",
       "\n",
       "    .dataframe tbody tr th {\n",
       "        vertical-align: top;\n",
       "    }\n",
       "\n",
       "    .dataframe thead th {\n",
       "        text-align: right;\n",
       "    }\n",
       "</style>\n",
       "<table border=\"1\" class=\"dataframe\">\n",
       "  <thead>\n",
       "    <tr style=\"text-align: right;\">\n",
       "      <th></th>\n",
       "      <th>ax</th>\n",
       "      <th>ay</th>\n",
       "      <th>az</th>\n",
       "    </tr>\n",
       "    <tr>\n",
       "      <th>timestamp</th>\n",
       "      <th></th>\n",
       "      <th></th>\n",
       "      <th></th>\n",
       "    </tr>\n",
       "  </thead>\n",
       "  <tbody>\n",
       "    <tr>\n",
       "      <th>2021-12-03 16:53:50+00:00</th>\n",
       "      <td>16381.677852</td>\n",
       "      <td>443.701342</td>\n",
       "      <td>1835.374161</td>\n",
       "    </tr>\n",
       "    <tr>\n",
       "      <th>2021-12-03 16:53:50+00:00</th>\n",
       "      <td>16381.677852</td>\n",
       "      <td>443.701342</td>\n",
       "      <td>1835.374161</td>\n",
       "    </tr>\n",
       "    <tr>\n",
       "      <th>2021-12-03 16:53:50.100000+00:00</th>\n",
       "      <td>16386.937397</td>\n",
       "      <td>452.683690</td>\n",
       "      <td>1842.568369</td>\n",
       "    </tr>\n",
       "    <tr>\n",
       "      <th>2021-12-03 16:53:50.200000+00:00</th>\n",
       "      <td>16380.110211</td>\n",
       "      <td>461.625608</td>\n",
       "      <td>1843.377634</td>\n",
       "    </tr>\n",
       "    <tr>\n",
       "      <th>2021-12-03 16:53:50.300000+00:00</th>\n",
       "      <td>16387.030255</td>\n",
       "      <td>457.649682</td>\n",
       "      <td>1847.789809</td>\n",
       "    </tr>\n",
       "    <tr>\n",
       "      <th>...</th>\n",
       "      <td>...</td>\n",
       "      <td>...</td>\n",
       "      <td>...</td>\n",
       "    </tr>\n",
       "    <tr>\n",
       "      <th>2021-12-03 17:29:13.343000064+00:00</th>\n",
       "      <td>-2295.493937</td>\n",
       "      <td>7674.203574</td>\n",
       "      <td>-13798.239311</td>\n",
       "    </tr>\n",
       "    <tr>\n",
       "      <th>2021-12-03 17:29:13.352999936+00:00</th>\n",
       "      <td>-2296.049170</td>\n",
       "      <td>7674.978927</td>\n",
       "      <td>-13797.556833</td>\n",
       "    </tr>\n",
       "    <tr>\n",
       "      <th>2021-12-03 17:29:13.361999872+00:00</th>\n",
       "      <td>-2296.599361</td>\n",
       "      <td>7675.780831</td>\n",
       "      <td>-13796.892652</td>\n",
       "    </tr>\n",
       "    <tr>\n",
       "      <th>2021-12-03 17:29:13.372000+00:00</th>\n",
       "      <td>-2297.154731</td>\n",
       "      <td>7676.556905</td>\n",
       "      <td>-13796.228261</td>\n",
       "    </tr>\n",
       "    <tr>\n",
       "      <th>2021-12-03 17:29:13.382000128+00:00</th>\n",
       "      <td>-2297.701216</td>\n",
       "      <td>7677.342290</td>\n",
       "      <td>-13795.571977</td>\n",
       "    </tr>\n",
       "  </tbody>\n",
       "</table>\n",
       "<p>241477 rows × 3 columns</p>\n",
       "</div>"
      ],
      "text/plain": [
       "                                               ax           ay            az\n",
       "timestamp                                                                   \n",
       "2021-12-03 16:53:50+00:00            16381.677852   443.701342   1835.374161\n",
       "2021-12-03 16:53:50+00:00            16381.677852   443.701342   1835.374161\n",
       "2021-12-03 16:53:50.100000+00:00     16386.937397   452.683690   1842.568369\n",
       "2021-12-03 16:53:50.200000+00:00     16380.110211   461.625608   1843.377634\n",
       "2021-12-03 16:53:50.300000+00:00     16387.030255   457.649682   1847.789809\n",
       "...                                           ...          ...           ...\n",
       "2021-12-03 17:29:13.343000064+00:00  -2295.493937  7674.203574 -13798.239311\n",
       "2021-12-03 17:29:13.352999936+00:00  -2296.049170  7674.978927 -13797.556833\n",
       "2021-12-03 17:29:13.361999872+00:00  -2296.599361  7675.780831 -13796.892652\n",
       "2021-12-03 17:29:13.372000+00:00     -2297.154731  7676.556905 -13796.228261\n",
       "2021-12-03 17:29:13.382000128+00:00  -2297.701216  7677.342290 -13795.571977\n",
       "\n",
       "[241477 rows x 3 columns]"
      ]
     },
     "execution_count": 56,
     "metadata": {},
     "output_type": "execute_result"
    }
   ],
   "source": [
    "df.rolling('30s', center=True, min_periods=30*10).mean()"
   ]
  }
 ],
 "metadata": {
  "kernelspec": {
   "display_name": "Python 3",
   "language": "python",
   "name": "python3"
  },
  "language_info": {
   "codemirror_mode": {
    "name": "ipython",
    "version": 3
   },
   "file_extension": ".py",
   "mimetype": "text/x-python",
   "name": "python",
   "nbconvert_exporter": "python",
   "pygments_lexer": "ipython3",
   "version": "3.10.8 (main, Nov  1 2022, 14:18:21) [GCC 12.2.0]"
  },
  "orig_nbformat": 4,
  "vscode": {
   "interpreter": {
    "hash": "767d51c1340bd893661ea55ea3124f6de3c7a262a8b4abca0554b478b1e2ff90"
   }
  }
 },
 "nbformat": 4,
 "nbformat_minor": 2
}
