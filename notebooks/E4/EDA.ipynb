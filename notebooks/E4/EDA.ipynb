{
 "cells": [
  {
   "attachments": {},
   "cell_type": "markdown",
   "metadata": {},
   "source": [
    "# Setup"
   ]
  },
  {
   "cell_type": "code",
   "execution_count": 23,
   "metadata": {},
   "outputs": [
    {
     "name": "stdout",
     "output_type": "stream",
     "text": [
      "/home/tlm/Work/FYP-22-23/weee-preprocess\n"
     ]
    }
   ],
   "source": [
    "%cd  /home/tlm/Work/FYP-22-23/weee-preprocess"
   ]
  },
  {
   "cell_type": "code",
   "execution_count": 24,
   "metadata": {},
   "outputs": [],
   "source": [
    "# %pip install neurokit2 --quiet"
   ]
  },
  {
   "cell_type": "code",
   "execution_count": 25,
   "metadata": {},
   "outputs": [],
   "source": [
    "import os\n",
    "import datetime\n",
    "import numpy as np\n",
    "import pandas as pd\n",
    "import neurokit2 as nk"
   ]
  },
  {
   "cell_type": "code",
   "execution_count": 26,
   "metadata": {},
   "outputs": [],
   "source": [
    "DATASET_DIR = \"./data/v1\"\n",
    "SAMPLING_RATE = 4 # Hz"
   ]
  },
  {
   "attachments": {},
   "cell_type": "markdown",
   "metadata": {},
   "source": [
    "# Prepare data"
   ]
  },
  {
   "cell_type": "code",
   "execution_count": 36,
   "metadata": {},
   "outputs": [],
   "source": [
    "class StudyInfoEncoder:\n",
    "    \n",
    "    def __init__(self, dataset_dir=DATASET_DIR, filename=\"Study_Information.csv\"):\n",
    "        self.activities = ['Start_Sit', 'Start_Stand', 'Start_Cycle1', 'Start_Cycle2', 'Start_Run1', 'Start_Run2']\n",
    "        self.encodings = { v:i for i, v in  enumerate(self.activities)}\n",
    "        self.info = pd.read_csv(\n",
    "            os.path.join(DATASET_DIR, filename),\n",
    "            parse_dates=list(self.encodings.keys())\n",
    "        )\n",
    "    \n",
    "    def fit_activity_column(self, df, participant_id, timestamp_column='timestamp', activity_column='activity', activity_column_index=1):\n",
    "        _info = self.info[self.info['Participant'] == f\"P{participant_id:02d}\"]\n",
    "        df.insert(activity_column_index, activity_column, np.nan)\n",
    "        df[activity_column] = df[activity_column].astype('Int8')\n",
    "        for activity in self.activities:\n",
    "            df.loc[df[timestamp_column] >= _info[activity].iloc[0], activity_column] = self.encodings[activity]\n",
    "        return df"
   ]
  },
  {
   "cell_type": "code",
   "execution_count": 28,
   "metadata": {},
   "outputs": [],
   "source": [
    "def load_dataset(dataset_dir, patient, sampling_rate):\n",
    "    \"\"\"\n",
    "        Load EDA data from the E4 dataset.\n",
    "    \"\"\"\n",
    "    data = pd.read_csv(os.path.join(dataset_dir, f\"P{patient:02d}\", \"E4\", \"EDA.csv\"), header=None)\n",
    "    start_time = datetime.datetime.fromtimestamp(float(data.iloc[0, 0]), tz=datetime.timezone.utc)\n",
    "    start_time = start_time.replace(tzinfo=None)\n",
    "    time_gap = int(1000/sampling_rate) # ms\n",
    "    data = pd.DataFrame({\n",
    "        'timestamp': pd.date_range(start=start_time, periods=len(data.iloc[1:]), freq=f\"{time_gap}ms\"),\n",
    "        'eda_raw': data.iloc[1:].values.reshape(-1),\n",
    "    })\n",
    "    return data"
   ]
  },
  {
   "cell_type": "code",
   "execution_count": 29,
   "metadata": {},
   "outputs": [],
   "source": [
    "def upsample_eda(eda_data, upsample_rate, timestamp_col='timestamp', eda_col='eda_raw'):\n",
    "    \"\"\"\n",
    "        Upsample EDA data.\n",
    "    :param eda_data: EDA dataframe with timestamp and eda_raw columns\n",
    "    :param upsample_rate: Upsample rate in Hz\n",
    "    \"\"\"\n",
    "    data = eda_data.set_index(timestamp_col).resample(f\"{1000/upsample_rate}ms\").mean().reset_index()\n",
    "    data[eda_col] = data[eda_col].interpolate(method='linear')\n",
    "    return data"
   ]
  },
  {
   "cell_type": "code",
   "execution_count": 30,
   "metadata": {},
   "outputs": [],
   "source": [
    "# change coloumn names\n",
    "import re\n",
    "def to_snake_case(name):\n",
    "    s1 = re.sub('(.)([A-Z][a-z]+)', r'\\1_\\2', name)\n",
    "    s2 = re.sub('([a-z0-9])([A-Z])', r'\\1_\\2', s1).lower()\n",
    "    return re.sub('_+', '_', s2)\n",
    "\n",
    "def standardize_column_names(df):\n",
    "    df = df.rename(\n",
    "        columns={old: to_snake_case(old) for old in df.columns},\n",
    "    )\n",
    "    return df"
   ]
  },
  {
   "attachments": {},
   "cell_type": "markdown",
   "metadata": {},
   "source": [
    "# Process"
   ]
  },
  {
   "cell_type": "code",
   "execution_count": 37,
   "metadata": {},
   "outputs": [],
   "source": [
    "sie = StudyInfoEncoder()\n",
    "\n",
    "def process_task(p):\n",
    "    global sie\n",
    "    df = load_dataset(DATASET_DIR, p, SAMPLING_RATE)\n",
    "    \n",
    "    # process eda\n",
    "    df = upsample_eda(df, upsample_rate=SAMPLING_RATE*2)\n",
    "    signals, info = nk.eda_process(df['eda_raw'], sampling_rate=SAMPLING_RATE*2)\n",
    "    df = pd.concat([df['timestamp'], signals], axis=1)\n",
    "    \n",
    "    # post touch ups\n",
    "    df.insert(1, 'participant', p)\n",
    "    df = sie.fit_activity_column(df, p, timestamp_column='timestamp', activity_column_index=2)\n",
    "    df = standardize_column_names(df)\n",
    "    print(f\"Done processing participant {p:02d}\")\n",
    "    return df"
   ]
  },
  {
   "cell_type": "code",
   "execution_count": 38,
   "metadata": {},
   "outputs": [
    {
     "name": "stdout",
     "output_type": "stream",
     "text": [
      "Done processing participant 01\n",
      "Done processing participant 02\n",
      "Done processing participant 03\n",
      "Done processing participant 04\n",
      "Done processing participant 05\n",
      "Done processing participant 06\n",
      "Done processing participant 07\n",
      "Done processing participant 08\n",
      "Done processing participant 09\n",
      "Done processing participant 10\n",
      "Done processing participant 11\n",
      "Done processing participant 12\n",
      "Done processing participant 13\n",
      "Done processing participant 14\n",
      "Done processing participant 15\n",
      "Done processing participant 16\n",
      "Done processing participant 17\n"
     ]
    }
   ],
   "source": [
    "# concat all participants row wise\n",
    "E4_EDA = pd.concat([process_task(p) for p in range(1, 18)], axis=0, ignore_index=True)"
   ]
  },
  {
   "cell_type": "code",
   "execution_count": 39,
   "metadata": {},
   "outputs": [
    {
     "data": {
      "text/plain": [
       "timestamp                 0\n",
       "participant               0\n",
       "activity             145760\n",
       "eda_raw                   0\n",
       "eda_clean                 0\n",
       "eda_tonic                 0\n",
       "eda_phasic                0\n",
       "scr_onsets                0\n",
       "scr_peaks                 0\n",
       "scr_height                0\n",
       "scr_amplitude             0\n",
       "scr_rise_time             0\n",
       "scr_recovery              0\n",
       "scr_recovery_time       171\n",
       "dtype: int64"
      ]
     },
     "execution_count": 39,
     "metadata": {},
     "output_type": "execute_result"
    }
   ],
   "source": [
    "# nan count per column\n",
    "E4_EDA.isna().sum()"
   ]
  },
  {
   "attachments": {},
   "cell_type": "markdown",
   "metadata": {},
   "source": [
    "# Windowing"
   ]
  },
  {
   "cell_type": "code",
   "execution_count": null,
   "metadata": {},
   "outputs": [],
   "source": [
    "WINDOW_SIZES = ['2s', '4s', '6s', '8s', '10s', '12s']\n",
    "AGG_FUNCS = ['mean', 'std', 'min', 'max', 'median']"
   ]
  },
  {
   "cell_type": "code",
   "execution_count": null,
   "metadata": {},
   "outputs": [],
   "source": [
    "def create_non_overlapping_windows(window_size, agg_funcs, ignore_incomplete_windows=True):\n",
    "    dfs = []\n",
    "    for p, p_df in E4_EDA.groupby('participant'):\n",
    "        for a, pa_df in p_df.groupby('activity'):\n",
    "            # pre touch ups\n",
    "            df = pa_df.sort_values('timestamp')\n",
    "            df = df.dropna(subset=['activity']) # remove rows with nan activity\n",
    "            if ignore_incomplete_windows:\n",
    "                number_of_windows = len(df) // int(window_size[:-1])\n",
    "                df = df.iloc[:number_of_windows*int(window_size[:-1])] # remove incomplete windows\n",
    "            \n",
    "            # create windows and aggregate\n",
    "            agg_cols = {c: agg_funcs for c in df.columns if c not in ['timestamp', 'activity', 'participant']}\n",
    "            agg_cols['timestamp'] =  ['first', 'last']\n",
    "            windowed = df.groupby(pd.Grouper(key='timestamp', freq=window_size)).agg(agg_cols)\n",
    "\n",
    "            # post touch ups\n",
    "            windowed.columns = ['_'.join(col).strip() for col in windowed.columns.values]\n",
    "            windowed = windowed.reset_index()\n",
    "            windowed.insert(0, 'participant', p)\n",
    "            windowed.insert(1, 'activity', a)\n",
    "            windowed.insert(2, 'window', range(len(windowed)))\n",
    "            dfs.append(windowed)\n",
    "    return pd.concat(dfs, axis=0, ignore_index=True)"
   ]
  },
  {
   "cell_type": "code",
   "execution_count": null,
   "metadata": {},
   "outputs": [],
   "source": [
    "%mkdir -p data/v2\n",
    "DATASET_DIR_V2 = \"data/v2\""
   ]
  },
  {
   "cell_type": "code",
   "execution_count": null,
   "metadata": {},
   "outputs": [
    {
     "name": "stdout",
     "output_type": "stream",
     "text": [
      "Done processing window size 2s\n",
      "Done processing window size 4s\n",
      "Done processing window size 6s\n",
      "Done processing window size 8s\n",
      "Done processing window size 10s\n",
      "Done processing window size 12s\n"
     ]
    }
   ],
   "source": [
    "for ws in WINDOW_SIZES:\n",
    "    E4_EDA_WINDOWED = create_non_overlapping_windows(ws, AGG_FUNCS)\n",
    "    E4_EDA_WINDOWED.to_csv(os.path.join(DATASET_DIR_V2, 'E4', f\"E4_EDA_{ws}.csv\"), index=False)\n",
    "    print(f\"Done processing window size {ws}\")"
   ]
  },
  {
   "cell_type": "code",
   "execution_count": null,
   "metadata": {},
   "outputs": [],
   "source": []
  }
 ],
 "metadata": {
  "kernelspec": {
   "display_name": "weee-preprocess-I3n8R8lm",
   "language": "python",
   "name": "python3"
  },
  "language_info": {
   "codemirror_mode": {
    "name": "ipython",
    "version": 3
   },
   "file_extension": ".py",
   "mimetype": "text/x-python",
   "name": "python",
   "nbconvert_exporter": "python",
   "pygments_lexer": "ipython3",
   "version": "3.10.8 (main, Nov  1 2022, 14:18:21) [GCC 12.2.0]"
  },
  "orig_nbformat": 4,
  "vscode": {
   "interpreter": {
    "hash": "272a8a6e35ded4b5bc2149586ac0a4b36927350a5bf7c6991efb05b52c5edcf4"
   }
  }
 },
 "nbformat": 4,
 "nbformat_minor": 2
}
