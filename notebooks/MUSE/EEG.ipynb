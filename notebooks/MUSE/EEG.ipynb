{
 "cells": [
  {
   "attachments": {},
   "cell_type": "markdown",
   "metadata": {},
   "source": [
    "# Setup"
   ]
  },
  {
   "cell_type": "code",
   "execution_count": 43,
   "metadata": {},
   "outputs": [
    {
     "name": "stdout",
     "output_type": "stream",
     "text": [
      "/home/tlm/Work/FYP-22-23/weee-preprocess\n"
     ]
    }
   ],
   "source": [
    "%cd  /home/tlm/Work/FYP-22-23/weee-preprocess"
   ]
  },
  {
   "cell_type": "code",
   "execution_count": 44,
   "metadata": {},
   "outputs": [],
   "source": [
    "import os\n",
    "import datetime\n",
    "import numpy as np\n",
    "import pandas as pd\n",
    "import mne"
   ]
  },
  {
   "cell_type": "code",
   "execution_count": 45,
   "metadata": {},
   "outputs": [],
   "source": [
    "DATASET_DIR = \"./data/v1\"\n",
    "SAMPLING_RATE = 256 # Hz"
   ]
  },
  {
   "attachments": {},
   "cell_type": "markdown",
   "metadata": {},
   "source": [
    "# Prepare data"
   ]
  },
  {
   "cell_type": "code",
   "execution_count": 46,
   "metadata": {},
   "outputs": [],
   "source": [
    "from utils.dataset import StudyInfoEncoder, DatasetVersion1\n",
    "from utils.naming import standardize_column_names\n",
    "from utils.resample import upsample\n",
    "from utils.time import parse_simple_timedelta"
   ]
  },
  {
   "attachments": {},
   "cell_type": "markdown",
   "metadata": {},
   "source": [
    "# Process"
   ]
  },
  {
   "cell_type": "code",
   "execution_count": 47,
   "metadata": {},
   "outputs": [],
   "source": [
    "dataset = DatasetVersion1()\n",
    "activity_encoder = StudyInfoEncoder(os.path.join(DATASET_DIR, 'Study_Information.csv'))"
   ]
  },
  {
   "cell_type": "code",
   "execution_count": 48,
   "metadata": {},
   "outputs": [],
   "source": [
    "def process_task(p):\n",
    "    global activity_encoder\n",
    "    df = dataset.muse_eeg(p)\n",
    "    df.insert(1, 'user_id', p)\n",
    "    activity_encoder.fit_activity_column(\n",
    "        df, p, \n",
    "        timestamp_column='timestamp', \n",
    "        activity_column='session_type',\n",
    "        activity_column_index=2,\n",
    "    )\n",
    "    df = standardize_column_names(df)\n",
    "    print(f\"Done processing participant {p:02d}\")\n",
    "    return df"
   ]
  },
  {
   "cell_type": "code",
   "execution_count": 49,
   "metadata": {},
   "outputs": [
    {
     "name": "stdout",
     "output_type": "stream",
     "text": [
      "Done processing participant 01\n",
      "Done processing participant 03\n",
      "Done processing participant 04\n",
      "Done processing participant 05\n",
      "Done processing participant 06\n",
      "Done processing participant 07\n",
      "Done processing participant 08\n",
      "Done processing participant 09\n",
      "Done processing participant 10\n",
      "Done processing participant 11\n",
      "Done processing participant 12\n",
      "Done processing participant 13\n",
      "Done processing participant 14\n",
      "Done processing participant 15\n",
      "Done processing participant 16\n",
      "Done processing participant 17\n"
     ]
    }
   ],
   "source": [
    "# concat all participants row wise\n",
    "from itertools import chain\n",
    "muse_eeg = pd.concat([process_task(p) for p in chain(range(1, 2), range(3, 18))], axis=0, ignore_index=True)"
   ]
  },
  {
   "attachments": {},
   "cell_type": "markdown",
   "metadata": {},
   "source": [
    "# Windowing"
   ]
  },
  {
   "cell_type": "code",
   "execution_count": 50,
   "metadata": {},
   "outputs": [],
   "source": [
    "WINDOW_SIZES = ['2s', '4s', '6s', '8s', '10s', '12s']\n",
    "AGG_FUNCS = ['mean', 'std', 'min', 'max', 'median']\n",
    "SKIP_FROM_START_SIT_FOR_EACH = '30s'"
   ]
  },
  {
   "cell_type": "code",
   "execution_count": 51,
   "metadata": {},
   "outputs": [],
   "source": [
    "def create_non_overlapping_windows(window_size, agg_funcs, ignore_incomplete_windows=True):\n",
    "    dfs = []\n",
    "    for p, p_df in muse_eeg.groupby('user_id'):\n",
    "        for a, pa_df in p_df.groupby('session_type'):\n",
    "            # pre touch ups\n",
    "            df = pa_df.sort_values('timestamp')\n",
    "            if SKIP_FROM_START_SIT_FOR_EACH:\n",
    "                lower_bound = df['timestamp'].iloc[0] + parse_simple_timedelta(SKIP_FROM_START_SIT_FOR_EACH)\n",
    "                df = df[df['timestamp'] >= lower_bound]\n",
    "            df = df.dropna(subset=['session_type']) # remove rows with nan activity\n",
    "            if ignore_incomplete_windows:\n",
    "                number_of_windows = len(df) // int(window_size[:-1])\n",
    "                df = df.iloc[:number_of_windows*int(window_size[:-1])] # remove incomplete windows\n",
    "            \n",
    "            # create windows and aggregate\n",
    "            agg_cols = {c: agg_funcs for c in df.columns if c not in ['timestamp', 'user_id', 'session_type']}\n",
    "            agg_cols['timestamp'] =  ['first', 'last']\n",
    "            windowed = df.groupby(pd.Grouper(key='timestamp', freq=window_size)).agg(agg_cols)\n",
    "\n",
    "            # post touch ups\n",
    "            windowed.columns = ['_'.join(col).strip() for col in windowed.columns.values]\n",
    "            windowed = windowed.reset_index()\n",
    "            windowed.insert(0, 'user_id', p)\n",
    "            windowed.insert(1, 'session_type', a)\n",
    "            windowed.insert(2, 'window_number', range(len(windowed)))\n",
    "            windowed.insert(3, 'start_timestamp', windowed.pop('timestamp_first').dt.ceil(freq='s'))\n",
    "            windowed.insert(4, 'end_timestamp', windowed.pop('timestamp_last').dt.ceil(freq='s'))\n",
    "            windowed.drop(columns=['timestamp'], inplace=True)\n",
    "            dfs.append(windowed)\n",
    "    return pd.concat(dfs, axis=0, ignore_index=True)"
   ]
  },
  {
   "cell_type": "code",
   "execution_count": 52,
   "metadata": {},
   "outputs": [],
   "source": [
    "%mkdir -p data/v2/MUSE\n",
    "DATASET_DIR_V2 = \"./data/v2\""
   ]
  },
  {
   "cell_type": "code",
   "execution_count": 53,
   "metadata": {},
   "outputs": [
    {
     "name": "stdout",
     "output_type": "stream",
     "text": [
      "Done processing window size 2s\n",
      "Done processing window size 4s\n",
      "Done processing window size 6s\n",
      "Done processing window size 8s\n",
      "Done processing window size 10s\n",
      "Done processing window size 12s\n"
     ]
    }
   ],
   "source": [
    "for ws in WINDOW_SIZES:\n",
    "    muse_eeg_windowed = create_non_overlapping_windows(ws, AGG_FUNCS)\n",
    "    path = os.path.abspath(os.path.join(DATASET_DIR_V2, 'MUSE', f\"muse_eeg_{ws}.csv\"))\n",
    "    muse_eeg_windowed.to_csv(path, index=False)\n",
    "    print(f\"Done processing window size {ws}\")"
   ]
  },
  {
   "cell_type": "code",
   "execution_count": null,
   "metadata": {},
   "outputs": [],
   "source": []
  }
 ],
 "metadata": {
  "kernelspec": {
   "display_name": "weee-preprocess-I3n8R8lm",
   "language": "python",
   "name": "python3"
  },
  "language_info": {
   "codemirror_mode": {
    "name": "ipython",
    "version": 3
   },
   "file_extension": ".py",
   "mimetype": "text/x-python",
   "name": "python",
   "nbconvert_exporter": "python",
   "pygments_lexer": "ipython3",
   "version": "3.10.8"
  },
  "orig_nbformat": 4,
  "vscode": {
   "interpreter": {
    "hash": "272a8a6e35ded4b5bc2149586ac0a4b36927350a5bf7c6991efb05b52c5edcf4"
   }
  }
 },
 "nbformat": 4,
 "nbformat_minor": 2
}
