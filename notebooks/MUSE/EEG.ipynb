{
 "cells": [
  {
   "attachments": {},
   "cell_type": "markdown",
   "metadata": {},
   "source": [
    "# Setup"
   ]
  },
  {
   "cell_type": "code",
   "execution_count": 15,
   "metadata": {},
   "outputs": [
    {
     "name": "stdout",
     "output_type": "stream",
     "text": [
      "/home/tlm/Work/FYP-22-23/weee-preprocess\n"
     ]
    }
   ],
   "source": [
    "%cd  /home/tlm/Work/FYP-22-23/weee-preprocess"
   ]
  },
  {
   "cell_type": "code",
   "execution_count": 16,
   "metadata": {},
   "outputs": [],
   "source": [
    "# %pip install neurokit2 --quiet"
   ]
  },
  {
   "cell_type": "code",
   "execution_count": 17,
   "metadata": {},
   "outputs": [],
   "source": [
    "import os\n",
    "import datetime\n",
    "import numpy as np\n",
    "import pandas as pd\n",
    "import neurokit2 as nk"
   ]
  },
  {
   "cell_type": "code",
   "execution_count": 18,
   "metadata": {},
   "outputs": [],
   "source": [
    "DATASET_DIR = \"./data/v1\"\n",
    "SAMPLING_RATE = 4 # Hz"
   ]
  },
  {
   "attachments": {},
   "cell_type": "markdown",
   "metadata": {},
   "source": [
    "# Prepare data"
   ]
  },
  {
   "cell_type": "code",
   "execution_count": 37,
   "metadata": {},
   "outputs": [],
   "source": [
    "from utils.dataset import StudyInfoEncoder, DatasetVersion1\n",
    "from utils.naming import standardize_column_names\n",
    "from utils.resample import upsample"
   ]
  },
  {
   "cell_type": "code",
   "execution_count": 38,
   "metadata": {},
   "outputs": [
    {
     "name": "stdout",
     "output_type": "stream",
     "text": [
      "Unexpected exception formatting exception. Falling back to standard exception\n"
     ]
    },
    {
     "name": "stderr",
     "output_type": "stream",
     "text": [
      "Traceback (most recent call last):\n",
      "  File \"/home/tlm/.local/share/virtualenvs/weee-preprocess-I3n8R8lm/lib/python3.10/site-packages/IPython/core/interactiveshell.py\", line 3433, in run_code\n",
      "    exec(code_obj, self.user_global_ns, self.user_ns)\n",
      "  File \"/tmp/ipykernel_10277/539745384.py\", line 1, in <module>\n",
      "    DatasetVersion1(DATASET_DIR).get(1, 'MUSE', 'EEG')\n",
      "  File \"/home/tlm/Work/FYP-22-23/weee-preprocess/utils/dataset.py\", line 86, in get\n",
      "TypeError: DatasetVersion1.__muse_eeg() takes 3 positional arguments but 4 were given\n",
      "\n",
      "During handling of the above exception, another exception occurred:\n",
      "\n",
      "Traceback (most recent call last):\n",
      "  File \"/home/tlm/.local/share/virtualenvs/weee-preprocess-I3n8R8lm/lib/python3.10/site-packages/IPython/core/interactiveshell.py\", line 2052, in showtraceback\n",
      "    stb = self.InteractiveTB.structured_traceback(\n",
      "  File \"/home/tlm/.local/share/virtualenvs/weee-preprocess-I3n8R8lm/lib/python3.10/site-packages/IPython/core/ultratb.py\", line 1118, in structured_traceback\n",
      "    return FormattedTB.structured_traceback(\n",
      "  File \"/home/tlm/.local/share/virtualenvs/weee-preprocess-I3n8R8lm/lib/python3.10/site-packages/IPython/core/ultratb.py\", line 1012, in structured_traceback\n",
      "    return VerboseTB.structured_traceback(\n",
      "  File \"/home/tlm/.local/share/virtualenvs/weee-preprocess-I3n8R8lm/lib/python3.10/site-packages/IPython/core/ultratb.py\", line 865, in structured_traceback\n",
      "    formatted_exception = self.format_exception_as_a_whole(etype, evalue, etb, number_of_lines_of_context,\n",
      "  File \"/home/tlm/.local/share/virtualenvs/weee-preprocess-I3n8R8lm/lib/python3.10/site-packages/IPython/core/ultratb.py\", line 818, in format_exception_as_a_whole\n",
      "    frames.append(self.format_record(r))\n",
      "  File \"/home/tlm/.local/share/virtualenvs/weee-preprocess-I3n8R8lm/lib/python3.10/site-packages/IPython/core/ultratb.py\", line 736, in format_record\n",
      "    result += ''.join(_format_traceback_lines(frame_info.lines, Colors, self.has_colors, lvals))\n",
      "  File \"/home/tlm/.local/share/virtualenvs/weee-preprocess-I3n8R8lm/lib/python3.10/site-packages/stack_data/utils.py\", line 144, in cached_property_wrapper\n",
      "    value = obj.__dict__[self.func.__name__] = self.func(obj)\n",
      "  File \"/home/tlm/.local/share/virtualenvs/weee-preprocess-I3n8R8lm/lib/python3.10/site-packages/stack_data/core.py\", line 734, in lines\n",
      "    pieces = self.included_pieces\n",
      "  File \"/home/tlm/.local/share/virtualenvs/weee-preprocess-I3n8R8lm/lib/python3.10/site-packages/stack_data/utils.py\", line 144, in cached_property_wrapper\n",
      "    value = obj.__dict__[self.func.__name__] = self.func(obj)\n",
      "  File \"/home/tlm/.local/share/virtualenvs/weee-preprocess-I3n8R8lm/lib/python3.10/site-packages/stack_data/core.py\", line 681, in included_pieces\n",
      "    pos = scope_pieces.index(self.executing_piece)\n",
      "  File \"/home/tlm/.local/share/virtualenvs/weee-preprocess-I3n8R8lm/lib/python3.10/site-packages/stack_data/utils.py\", line 144, in cached_property_wrapper\n",
      "    value = obj.__dict__[self.func.__name__] = self.func(obj)\n",
      "  File \"/home/tlm/.local/share/virtualenvs/weee-preprocess-I3n8R8lm/lib/python3.10/site-packages/stack_data/core.py\", line 660, in executing_piece\n",
      "    return only(\n",
      "  File \"/home/tlm/.local/share/virtualenvs/weee-preprocess-I3n8R8lm/lib/python3.10/site-packages/executing/executing.py\", line 190, in only\n",
      "    raise NotOneValueFound('Expected one value, found 0')\n",
      "executing.executing.NotOneValueFound: Expected one value, found 0\n"
     ]
    }
   ],
   "source": [
    "DatasetVersion1(DATASET_DIR).get(1, 'MUSE', 'EEG')"
   ]
  },
  {
   "attachments": {},
   "cell_type": "markdown",
   "metadata": {},
   "source": [
    "# Process"
   ]
  },
  {
   "cell_type": "code",
   "execution_count": 33,
   "metadata": {},
   "outputs": [],
   "source": [
    "\n"
   ]
  },
  {
   "cell_type": "code",
   "execution_count": 34,
   "metadata": {},
   "outputs": [
    {
     "data": {
      "text/html": [
       "<div>\n",
       "<style scoped>\n",
       "    .dataframe tbody tr th:only-of-type {\n",
       "        vertical-align: middle;\n",
       "    }\n",
       "\n",
       "    .dataframe tbody tr th {\n",
       "        vertical-align: top;\n",
       "    }\n",
       "\n",
       "    .dataframe thead th {\n",
       "        text-align: right;\n",
       "    }\n",
       "</style>\n",
       "<table border=\"1\" class=\"dataframe\">\n",
       "  <thead>\n",
       "    <tr style=\"text-align: right;\">\n",
       "      <th></th>\n",
       "      <th>timestamp</th>\n",
       "      <th>alpha</th>\n",
       "      <th>beta</th>\n",
       "      <th>delta</th>\n",
       "      <th>gamma</th>\n",
       "      <th>theta</th>\n",
       "    </tr>\n",
       "  </thead>\n",
       "  <tbody>\n",
       "    <tr>\n",
       "      <th>0</th>\n",
       "      <td>2021-12-03 16:54:57.575885056+00:00</td>\n",
       "      <td>171.648346</td>\n",
       "      <td>802.637390</td>\n",
       "      <td>784.505493</td>\n",
       "      <td>241.355316</td>\n",
       "      <td>684.175842</td>\n",
       "    </tr>\n",
       "    <tr>\n",
       "      <th>1</th>\n",
       "      <td>2021-12-03 16:54:57.576206080+00:00</td>\n",
       "      <td>1550.073242</td>\n",
       "      <td>825.604370</td>\n",
       "      <td>788.131897</td>\n",
       "      <td>1573.443237</td>\n",
       "      <td>835.677673</td>\n",
       "    </tr>\n",
       "    <tr>\n",
       "      <th>2</th>\n",
       "      <td>2021-12-03 16:54:57.576272128+00:00</td>\n",
       "      <td>0.000000</td>\n",
       "      <td>787.325989</td>\n",
       "      <td>784.505493</td>\n",
       "      <td>0.000000</td>\n",
       "      <td>776.446899</td>\n",
       "    </tr>\n",
       "    <tr>\n",
       "      <th>3</th>\n",
       "      <td>2021-12-03 16:54:57.576153088+00:00</td>\n",
       "      <td>959.377319</td>\n",
       "      <td>798.205139</td>\n",
       "      <td>785.714294</td>\n",
       "      <td>942.454224</td>\n",
       "      <td>763.553101</td>\n",
       "    </tr>\n",
       "    <tr>\n",
       "      <th>4</th>\n",
       "      <td>2021-12-03 16:54:57.575933952+00:00</td>\n",
       "      <td>89.047623</td>\n",
       "      <td>811.904785</td>\n",
       "      <td>788.131897</td>\n",
       "      <td>72.930405</td>\n",
       "      <td>783.699646</td>\n",
       "    </tr>\n",
       "  </tbody>\n",
       "</table>\n",
       "</div>"
      ],
      "text/plain": [
       "                            timestamp        alpha        beta       delta  \\\n",
       "0 2021-12-03 16:54:57.575885056+00:00   171.648346  802.637390  784.505493   \n",
       "1 2021-12-03 16:54:57.576206080+00:00  1550.073242  825.604370  788.131897   \n",
       "2 2021-12-03 16:54:57.576272128+00:00     0.000000  787.325989  784.505493   \n",
       "3 2021-12-03 16:54:57.576153088+00:00   959.377319  798.205139  785.714294   \n",
       "4 2021-12-03 16:54:57.575933952+00:00    89.047623  811.904785  788.131897   \n",
       "\n",
       "         gamma       theta  \n",
       "0   241.355316  684.175842  \n",
       "1  1573.443237  835.677673  \n",
       "2     0.000000  776.446899  \n",
       "3   942.454224  763.553101  \n",
       "4    72.930405  783.699646  "
      ]
     },
     "execution_count": 34,
     "metadata": {},
     "output_type": "execute_result"
    }
   ],
   "source": [
    "df.head()"
   ]
  },
  {
   "attachments": {},
   "cell_type": "markdown",
   "metadata": {},
   "source": [
    "# Windowing"
   ]
  }
 ],
 "metadata": {
  "kernelspec": {
   "display_name": "weee-preprocess-I3n8R8lm",
   "language": "python",
   "name": "python3"
  },
  "language_info": {
   "codemirror_mode": {
    "name": "ipython",
    "version": 3
   },
   "file_extension": ".py",
   "mimetype": "text/x-python",
   "name": "python",
   "nbconvert_exporter": "python",
   "pygments_lexer": "ipython3",
   "version": "3.10.8"
  },
  "orig_nbformat": 4,
  "vscode": {
   "interpreter": {
    "hash": "272a8a6e35ded4b5bc2149586ac0a4b36927350a5bf7c6991efb05b52c5edcf4"
   }
  }
 },
 "nbformat": 4,
 "nbformat_minor": 2
}
