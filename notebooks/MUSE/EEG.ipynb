{
 "cells": [
  {
   "attachments": {},
   "cell_type": "markdown",
   "metadata": {},
   "source": [
    "# Setup"
   ]
  },
  {
   "cell_type": "code",
   "execution_count": 27,
   "metadata": {},
   "outputs": [
    {
     "name": "stdout",
     "output_type": "stream",
     "text": [
      "/home/tlm/Work/FYP-22-23/weee-preprocess\n"
     ]
    }
   ],
   "source": [
    "%cd  /home/tlm/Work/FYP-22-23/weee-preprocess"
   ]
  },
  {
   "cell_type": "code",
   "execution_count": 28,
   "metadata": {},
   "outputs": [],
   "source": [
    "# %pip install neurokit2 --quiet"
   ]
  },
  {
   "cell_type": "code",
   "execution_count": 29,
   "metadata": {},
   "outputs": [],
   "source": [
    "import os\n",
    "import datetime\n",
    "import numpy as np\n",
    "import pandas as pd\n",
    "import mne"
   ]
  },
  {
   "cell_type": "code",
   "execution_count": 30,
   "metadata": {},
   "outputs": [],
   "source": [
    "DATASET_DIR = \"./data/v1\"\n",
    "SAMPLING_RATE = 256 # Hz"
   ]
  },
  {
   "attachments": {},
   "cell_type": "markdown",
   "metadata": {},
   "source": [
    "# Prepare data"
   ]
  },
  {
   "cell_type": "code",
   "execution_count": 31,
   "metadata": {},
   "outputs": [],
   "source": [
    "from utils.dataset import StudyInfoEncoder, DatasetVersion1\n",
    "from utils.naming import standardize_column_names\n",
    "from utils.resample import upsample"
   ]
  },
  {
   "attachments": {},
   "cell_type": "markdown",
   "metadata": {},
   "source": [
    "# Process"
   ]
  },
  {
   "cell_type": "code",
   "execution_count": 32,
   "metadata": {},
   "outputs": [
    {
     "data": {
      "text/html": [
       "<div>\n",
       "<style scoped>\n",
       "    .dataframe tbody tr th:only-of-type {\n",
       "        vertical-align: middle;\n",
       "    }\n",
       "\n",
       "    .dataframe tbody tr th {\n",
       "        vertical-align: top;\n",
       "    }\n",
       "\n",
       "    .dataframe thead th {\n",
       "        text-align: right;\n",
       "    }\n",
       "</style>\n",
       "<table border=\"1\" class=\"dataframe\">\n",
       "  <thead>\n",
       "    <tr style=\"text-align: right;\">\n",
       "      <th></th>\n",
       "      <th>timestamp</th>\n",
       "      <th>alpha</th>\n",
       "      <th>beta</th>\n",
       "      <th>delta</th>\n",
       "      <th>gamma</th>\n",
       "      <th>theta</th>\n",
       "    </tr>\n",
       "  </thead>\n",
       "  <tbody>\n",
       "    <tr>\n",
       "      <th>0</th>\n",
       "      <td>2021-12-03 16:54:57.575885056</td>\n",
       "      <td>171.648346</td>\n",
       "      <td>802.637390</td>\n",
       "      <td>784.505493</td>\n",
       "      <td>241.355316</td>\n",
       "      <td>684.175842</td>\n",
       "    </tr>\n",
       "    <tr>\n",
       "      <th>1</th>\n",
       "      <td>2021-12-03 16:54:57.576206080</td>\n",
       "      <td>1550.073242</td>\n",
       "      <td>825.604370</td>\n",
       "      <td>788.131897</td>\n",
       "      <td>1573.443237</td>\n",
       "      <td>835.677673</td>\n",
       "    </tr>\n",
       "    <tr>\n",
       "      <th>2</th>\n",
       "      <td>2021-12-03 16:54:57.576272128</td>\n",
       "      <td>0.000000</td>\n",
       "      <td>787.325989</td>\n",
       "      <td>784.505493</td>\n",
       "      <td>0.000000</td>\n",
       "      <td>776.446899</td>\n",
       "    </tr>\n",
       "    <tr>\n",
       "      <th>3</th>\n",
       "      <td>2021-12-03 16:54:57.576153088</td>\n",
       "      <td>959.377319</td>\n",
       "      <td>798.205139</td>\n",
       "      <td>785.714294</td>\n",
       "      <td>942.454224</td>\n",
       "      <td>763.553101</td>\n",
       "    </tr>\n",
       "    <tr>\n",
       "      <th>4</th>\n",
       "      <td>2021-12-03 16:54:57.575933952</td>\n",
       "      <td>89.047623</td>\n",
       "      <td>811.904785</td>\n",
       "      <td>788.131897</td>\n",
       "      <td>72.930405</td>\n",
       "      <td>783.699646</td>\n",
       "    </tr>\n",
       "  </tbody>\n",
       "</table>\n",
       "</div>"
      ],
      "text/plain": [
       "                      timestamp        alpha        beta       delta  \\\n",
       "0 2021-12-03 16:54:57.575885056   171.648346  802.637390  784.505493   \n",
       "1 2021-12-03 16:54:57.576206080  1550.073242  825.604370  788.131897   \n",
       "2 2021-12-03 16:54:57.576272128     0.000000  787.325989  784.505493   \n",
       "3 2021-12-03 16:54:57.576153088   959.377319  798.205139  785.714294   \n",
       "4 2021-12-03 16:54:57.575933952    89.047623  811.904785  788.131897   \n",
       "\n",
       "         gamma       theta  \n",
       "0   241.355316  684.175842  \n",
       "1  1573.443237  835.677673  \n",
       "2     0.000000  776.446899  \n",
       "3   942.454224  763.553101  \n",
       "4    72.930405  783.699646  "
      ]
     },
     "execution_count": 32,
     "metadata": {},
     "output_type": "execute_result"
    }
   ],
   "source": [
    "df = DatasetVersion1(DATASET_DIR).get(1, 'MUSE', 'EEG')\n",
    "df.head()"
   ]
  },
  {
   "cell_type": "code",
   "execution_count": 33,
   "metadata": {},
   "outputs": [],
   "source": [
    "activity_encoder = StudyInfoEncoder(os.path.join(DATASET_DIR, 'Study_Information.csv'))"
   ]
  },
  {
   "cell_type": "code",
   "execution_count": 34,
   "metadata": {},
   "outputs": [],
   "source": [
    "def process_task(p):\n",
    "    global activity_encoder\n",
    "    df = DatasetVersion1(DATASET_DIR).get(p, 'MUSE', 'EEG')\n",
    "    df.insert(1, 'participant', p)\n",
    "    activity_encoder.fit_activity_column(df, p, timestamp_column='timestamp', activity_column_index=2)\n",
    "    df = standardize_column_names(df)\n",
    "    print(f\"Done processing participant {p:02d}\")\n",
    "    return df"
   ]
  },
  {
   "cell_type": "code",
   "execution_count": 35,
   "metadata": {},
   "outputs": [
    {
     "name": "stdout",
     "output_type": "stream",
     "text": [
      "Done processing participant 01\n",
      "Done processing participant 03\n",
      "Done processing participant 04\n",
      "Done processing participant 05\n",
      "Done processing participant 06\n",
      "Done processing participant 07\n",
      "Done processing participant 08\n",
      "Done processing participant 09\n",
      "Done processing participant 10\n",
      "Done processing participant 11\n",
      "Done processing participant 12\n",
      "Done processing participant 13\n",
      "Done processing participant 14\n",
      "Done processing participant 15\n",
      "Done processing participant 16\n",
      "Done processing participant 17\n"
     ]
    }
   ],
   "source": [
    "# concat all participants row wise\n",
    "from itertools import chain\n",
    "muse_eeg = pd.concat([process_task(p) for p in chain(range(1, 2), range(3, 18))], axis=0, ignore_index=True)"
   ]
  },
  {
   "attachments": {},
   "cell_type": "markdown",
   "metadata": {},
   "source": [
    "# Windowing"
   ]
  },
  {
   "cell_type": "code",
   "execution_count": 36,
   "metadata": {},
   "outputs": [
    {
     "data": {
      "text/plain": [
       "1520071"
      ]
     },
     "execution_count": 36,
     "metadata": {},
     "output_type": "execute_result"
    }
   ],
   "source": [
    "muse_eeg['activity'].isna().sum()"
   ]
  },
  {
   "cell_type": "code",
   "execution_count": 37,
   "metadata": {},
   "outputs": [],
   "source": [
    "WINDOW_SIZES = ['2s', '4s', '6s', '8s', '10s', '12s']\n",
    "AGG_FUNCS = ['mean', 'std', 'min', 'max', 'median']"
   ]
  },
  {
   "cell_type": "code",
   "execution_count": 38,
   "metadata": {},
   "outputs": [],
   "source": [
    "def create_non_overlapping_windows(window_size, agg_funcs, ignore_incomplete_windows=True):\n",
    "    dfs = []\n",
    "    for p, p_df in muse_eeg.groupby('participant'):\n",
    "        for a, pa_df in p_df.groupby('activity'):\n",
    "            # pre touch ups\n",
    "            df = pa_df.sort_values('timestamp')\n",
    "            df = df.dropna(subset=['activity']) # remove rows with nan activity\n",
    "            if ignore_incomplete_windows:\n",
    "                number_of_windows = len(df) // int(window_size[:-1])\n",
    "                df = df.iloc[:number_of_windows*int(window_size[:-1])] # remove incomplete windows\n",
    "            \n",
    "            # create windows and aggregate\n",
    "            agg_cols = {c: agg_funcs for c in df.columns if c not in ['timestamp', 'activity', 'participant']}\n",
    "            agg_cols['timestamp'] =  ['first', 'last']\n",
    "            windowed = df.groupby(pd.Grouper(key='timestamp', freq=window_size)).agg(agg_cols)\n",
    "\n",
    "            # post touch ups\n",
    "            windowed.columns = ['_'.join(col).strip() for col in windowed.columns.values]\n",
    "            windowed = windowed.reset_index()\n",
    "            windowed.insert(0, 'participant', p)\n",
    "            windowed.insert(1, 'activity', a)\n",
    "            windowed.insert(2, 'window', range(len(windowed)))\n",
    "            dfs.append(windowed)\n",
    "    return pd.concat(dfs, axis=0, ignore_index=True)"
   ]
  },
  {
   "cell_type": "code",
   "execution_count": 39,
   "metadata": {},
   "outputs": [],
   "source": [
    "%mkdir -p data/v2/MUSE\n",
    "DATASET_DIR_V2 = \"data/v2\""
   ]
  },
  {
   "cell_type": "code",
   "execution_count": 40,
   "metadata": {},
   "outputs": [
    {
     "name": "stdout",
     "output_type": "stream",
     "text": [
      "Done processing window size 2s\n",
      "Done processing window size 4s\n",
      "Done processing window size 6s\n",
      "Done processing window size 8s\n",
      "Done processing window size 10s\n",
      "Done processing window size 12s\n"
     ]
    }
   ],
   "source": [
    "for ws in WINDOW_SIZES:\n",
    "    muse_eeg_windowed = create_non_overlapping_windows(ws, AGG_FUNCS)\n",
    "    muse_eeg_windowed.to_csv(os.path.join(DATASET_DIR_V2, 'MUSE', f\"muse_eeg_{ws}.csv\"), index=False)\n",
    "    print(f\"Done processing window size {ws}\")"
   ]
  },
  {
   "cell_type": "code",
   "execution_count": null,
   "metadata": {},
   "outputs": [],
   "source": []
  }
 ],
 "metadata": {
  "kernelspec": {
   "display_name": "weee-preprocess-I3n8R8lm",
   "language": "python",
   "name": "python3"
  },
  "language_info": {
   "codemirror_mode": {
    "name": "ipython",
    "version": 3
   },
   "file_extension": ".py",
   "mimetype": "text/x-python",
   "name": "python",
   "nbconvert_exporter": "python",
   "pygments_lexer": "ipython3",
   "version": "3.10.8"
  },
  "orig_nbformat": 4,
  "vscode": {
   "interpreter": {
    "hash": "272a8a6e35ded4b5bc2149586ac0a4b36927350a5bf7c6991efb05b52c5edcf4"
   }
  }
 },
 "nbformat": 4,
 "nbformat_minor": 2
}
